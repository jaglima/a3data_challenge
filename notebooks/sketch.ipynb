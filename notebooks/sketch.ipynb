{
 "cells": [
  {
   "cell_type": "markdown",
   "id": "72d254f2-4af0-4007-9ef6-872b10f2580a",
   "metadata": {},
   "source": [
    "# Scikit-learn Iris Dataset experiment"
   ]
  },
  {
   "cell_type": "code",
   "execution_count": 23,
   "id": "521f1f49-3a38-4863-a5a0-e0fbeeea8e15",
   "metadata": {},
   "outputs": [],
   "source": [
    "import pandas as pd\n",
    "from sklearn.datasets import load_iris\n",
    "\n",
    "def load_data():\n",
    "    iris = load_iris()\n",
    "    df = pd.DataFrame(data=iris.data, columns=iris.feature_names)\n",
    "    df['target'] = iris.target\n",
    "    return df"
   ]
  },
  {
   "cell_type": "code",
   "execution_count": 32,
   "id": "9bd6ac7c-532a-458a-8f36-ce11b98e9f5b",
   "metadata": {},
   "outputs": [],
   "source": [
    "df = load_data()"
   ]
  },
  {
   "cell_type": "code",
   "execution_count": 165,
   "id": "10c15c65-2476-4085-ac44-8b0d79190ba7",
   "metadata": {},
   "outputs": [],
   "source": [
    "from sklearn.preprocessing import StandardScaler, LabelEncoder\n",
    "import pandas as pd\n",
    "\n",
    "def preprocess_iris_dataframe(df, target_column):\n",
    "    # Copy the dataframe to avoid modifying the original one\n",
    "    df_preprocessed = df.copy()\n",
    "    \n",
    "    # Scale the feature columns\n",
    "    scaler = StandardScaler()\n",
    "    feature_columns = df_preprocessed.columns[df_preprocessed.columns != target_column]\n",
    "    df_preprocessed[feature_columns] = scaler.fit_transform(df_preprocessed[feature_columns])\n",
    "    \n",
    "    # Encode the target column\n",
    "    label_encoder = LabelEncoder()\n",
    "    df_preprocessed[target_column] = label_encoder.fit_transform(df_preprocessed[target_column])\n",
    "    \n",
    "    return df_preprocessed, label_encoder"
   ]
  },
  {
   "cell_type": "code",
   "execution_count": 166,
   "id": "6c57a23a-2215-4647-abe0-0e532e5a6368",
   "metadata": {},
   "outputs": [],
   "source": [
    "df, _ = preprocess_iris_dataframe(df, 'target')"
   ]
  },
  {
   "cell_type": "code",
   "execution_count": 167,
   "id": "dcaf6536-69ed-443f-a71c-76f205b76713",
   "metadata": {},
   "outputs": [],
   "source": [
    "import pandas as pd\n",
    "from sklearn.model_selection import train_test_split\n",
    "\n",
    "def split_data(df,test_ratio,random_state):\n",
    "    train, test = train_test_split(df, test_size=test_ratio, random_state=random_state)\n",
    "    \n",
    "    return train, test"
   ]
  },
  {
   "cell_type": "code",
   "execution_count": 168,
   "id": "caef00d9-4d88-4ae7-8f50-f2ebc763fd31",
   "metadata": {},
   "outputs": [],
   "source": [
    "train, test = split_data(df, 0.2, 42)"
   ]
  },
  {
   "cell_type": "code",
   "execution_count": 169,
   "id": "21bfe70c-c74f-456c-ae3a-1bda77d51f33",
   "metadata": {},
   "outputs": [
    {
     "data": {
      "text/plain": [
       "((120, 5), (30, 5), (150, 5))"
      ]
     },
     "execution_count": 169,
     "metadata": {},
     "output_type": "execute_result"
    }
   ],
   "source": [
    "train.shape, test.shape, df.shape"
   ]
  },
  {
   "cell_type": "code",
   "execution_count": 170,
   "id": "a73e4300-a41e-4de2-a34c-88b86186d8c4",
   "metadata": {},
   "outputs": [],
   "source": [
    "def get_feat_and_target(df,target):\n",
    "    \"\"\"\n",
    "    Get features and target variables seperately from given dataframe and target \n",
    "    input: dataframe and target column\n",
    "    output: two dataframes for x and y \n",
    "    \"\"\"\n",
    "    x=df.drop(target,axis=1)\n",
    "    y=df[[target]]\n",
    "    y = y.values.ravel()\n",
    "    return x,y    "
   ]
  },
  {
   "cell_type": "code",
   "execution_count": 171,
   "id": "31b1a8f8-6df0-4d37-b61d-6065885d4876",
   "metadata": {},
   "outputs": [],
   "source": [
    "import mlflow\n",
    "import mlflow.sklearn\n",
    "from sklearn.ensemble import RandomForestClassifier\n",
    "from sklearn.metrics import accuracy_score, classification_report\n",
    "import pandas as pd\n",
    "\n",
    "def train_and_evaluate(df):\n",
    "    train, test = split_data(df, test_ratio=0.7, random_state=42)\n",
    "    train_x, train_y = get_feat_and_target(train, target='target')\n",
    "    test_x, test_y = get_feat_and_target(test, target='target')\n",
    "\n",
    "    ################### MLFLOW ###############################\n",
    "    remote_server_uri = 'http://localhost:5000'\n",
    "    mlflow.set_experiment(\"Iris RandomForest Experiment\")\n",
    "\n",
    "    # PARAMS \n",
    "    # FIXME make it more flexible\n",
    "    MAX_DEPTH = 3\n",
    "    N_ESTIMATOR = 50\n",
    "    \n",
    "    with mlflow.start_run():\n",
    "        rf_classifier = RandomForestClassifier(max_depth=MAX_DEPTH, n_estimators=N_ESTIMATOR, random_state=42)\n",
    "        rf_classifier.fit(train_x, train_y)\n",
    "\n",
    "        y_pred = rf_classifier.predict(test_x)\n",
    "\n",
    "        # Calculate metrics\n",
    "        accuracy = accuracy_score(test_y, y_pred)\n",
    "        precision = precision_score(test_y, y_pred, average='macro')\n",
    "        recall = recall_score(test_y, y_pred, average='macro')\n",
    "        f1score = f1_score(test_y, y_pred, average='macro')\n",
    "\n",
    "        # Log parameters, metrics, and the model\n",
    "        mlflow.log_param(\"max_depth\", MAX_DEPTH)\n",
    "        mlflow.log_param(\"n_estimators\", N_ESTIMATOR)\n",
    "        mlflow.log_metric(\"accuracy\", accuracy)\n",
    "        mlflow.log_metric(\"precision\", precision)\n",
    "        mlflow.log_metric(\"recall\", recall)\n",
    "        mlflow.log_metric(\"f1_score\", f1score)\n",
    "        # Specify metric conditions\n",
    "       \n",
    "        mlflow.sklearn.log_model(rf_classifier, \"random_forest_model\")\n",
    "\n",
    "\n",
    "        exp = mlflow.search_runs(\n",
    "            filter_string=f\"metrics.f1_score >= 0.9\",\n",
    "            order_by=[\"start_time DESC\"],\n",
    "            max_results=1\n",
    "        )\n",
    "        \n",
    "        # Get the ID of the registered model\n",
    "        model_id = exp.iloc[0].run_id\n",
    "\n",
    "        # Save the registered model as a pickle file\n",
    "        mlflow.sklearn.save_model(f\"runs:/{model_id}/random_forest_model\", f\"models/{model_id}\")\n",
    "               \n",
    "        print(f\"Run with max_depth={MAX_DEPTH}, n_estimators={N_ESTIMATOR} logged with accuracy={accuracy}\")\n",
    "\n",
    "        return model_id"
   ]
  },
  {
   "cell_type": "code",
   "execution_count": 172,
   "id": "ef24c76a-54f0-49bf-b099-4da29519dd2a",
   "metadata": {
    "scrolled": true
   },
   "outputs": [
    {
     "name": "stderr",
     "output_type": "stream",
     "text": [
      "/usr/local/Caskroom/miniconda/base/envs/mlflow/lib/python3.10/site-packages/_distutils_hack/__init__.py:11: UserWarning: Distutils was imported before Setuptools, but importing Setuptools also replaces the `distutils` module in `sys.modules`. This may lead to undesirable behaviors or errors. To avoid these issues, avoid using distutils directly, ensure that setuptools is installed in the traditional way (e.g. not an editable install), and/or make sure that setuptools is always imported before distutils.\n",
      "  warnings.warn(\n",
      "/usr/local/Caskroom/miniconda/base/envs/mlflow/lib/python3.10/site-packages/_distutils_hack/__init__.py:26: UserWarning: Setuptools is replacing distutils.\n",
      "  warnings.warn(\"Setuptools is replacing distutils.\")\n",
      "2024/05/31 16:48:50 WARNING mlflow.sklearn: Model was missing function: predict. Not logging python_function flavor!\n"
     ]
    },
    {
     "name": "stdout",
     "output_type": "stream",
     "text": [
      "Run with max_depth=3, n_estimators=50 logged with accuracy=0.9238095238095239\n"
     ]
    },
    {
     "data": {
      "text/plain": [
       "'335616595d86472e8c58b2d3222c492b'"
      ]
     },
     "execution_count": 172,
     "metadata": {},
     "output_type": "execute_result"
    }
   ],
   "source": [
    "train_and_evaluate(df)"
   ]
  },
  {
   "cell_type": "code",
   "execution_count": 175,
   "id": "2325c62f-11d3-4a4d-921c-02df2d577982",
   "metadata": {},
   "outputs": [
    {
     "name": "stdout",
     "output_type": "stream",
     "text": [
      "[2]\n"
     ]
    }
   ],
   "source": [
    "model_id = '335616595d86472e8c58b2d3222c492b'\n",
    "\n",
    "# Load the model associated with the specified run ID\n",
    "model = mlflow.sklearn.load_model(f\"runs:/{model_id}/random_forest_model\")\n",
    "\n",
    "# Make predictions on the new data\n",
    "predictions = model.predict(pd.DataFrame(df.iloc[120][0:4]).T)\n",
    "\n",
    "# Print or use the predictions as needed\n",
    "print(predictions)"
   ]
  },
  {
   "cell_type": "code",
   "execution_count": 177,
   "id": "057829f4-5c27-4202-91b4-7351b2d31798",
   "metadata": {},
   "outputs": [
    {
     "data": {
      "text/html": [
       "<div>\n",
       "<style scoped>\n",
       "    .dataframe tbody tr th:only-of-type {\n",
       "        vertical-align: middle;\n",
       "    }\n",
       "\n",
       "    .dataframe tbody tr th {\n",
       "        vertical-align: top;\n",
       "    }\n",
       "\n",
       "    .dataframe thead th {\n",
       "        text-align: right;\n",
       "    }\n",
       "</style>\n",
       "<table border=\"1\" class=\"dataframe\">\n",
       "  <thead>\n",
       "    <tr style=\"text-align: right;\">\n",
       "      <th></th>\n",
       "      <th>sepal length (cm)</th>\n",
       "      <th>sepal width (cm)</th>\n",
       "      <th>petal length (cm)</th>\n",
       "      <th>petal width (cm)</th>\n",
       "    </tr>\n",
       "  </thead>\n",
       "  <tbody>\n",
       "    <tr>\n",
       "      <th>10</th>\n",
       "      <td>-0.537178</td>\n",
       "      <td>1.479398</td>\n",
       "      <td>-1.283389</td>\n",
       "      <td>-1.315444</td>\n",
       "    </tr>\n",
       "  </tbody>\n",
       "</table>\n",
       "</div>"
      ],
      "text/plain": [
       "    sepal length (cm)  sepal width (cm)  petal length (cm)  petal width (cm)\n",
       "10          -0.537178          1.479398          -1.283389         -1.315444"
      ]
     },
     "execution_count": 177,
     "metadata": {},
     "output_type": "execute_result"
    }
   ],
   "source": [
    "pd.DataFrame(df.iloc[10][0:4]).T"
   ]
  },
  {
   "cell_type": "code",
   "execution_count": null,
   "id": "302db7d3-e4b2-4693-bfd0-23172d3f912f",
   "metadata": {},
   "outputs": [],
   "source": []
  }
 ],
 "metadata": {
  "kernelspec": {
   "display_name": "Python 3 (ipykernel)",
   "language": "python",
   "name": "python3"
  },
  "language_info": {
   "codemirror_mode": {
    "name": "ipython",
    "version": 3
   },
   "file_extension": ".py",
   "mimetype": "text/x-python",
   "name": "python",
   "nbconvert_exporter": "python",
   "pygments_lexer": "ipython3",
   "version": "3.10.14"
  }
 },
 "nbformat": 4,
 "nbformat_minor": 5
}
